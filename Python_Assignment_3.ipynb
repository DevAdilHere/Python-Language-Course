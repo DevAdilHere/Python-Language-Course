{
 "cells": [
  {
   "cell_type": "code",
   "execution_count": 2,
   "id": "51332ad2",
   "metadata": {},
   "outputs": [
    {
     "name": "stdout",
     "output_type": "stream",
     "text": [
      "Twinkle, twinkle, little Star,\n",
      "         How I wonder what you are! \n",
      "                Up above the world so high, \n",
      "                Like a diamond in the sky.\n",
      "Twinkle, twinkle, little Star,\n",
      "         How I wonder what you are\n"
     ]
    }
   ],
   "source": [
    "#1 Write a Python program to print the string in a specific format.\n",
    "\n",
    "arr = [\"Twinkle, twinkle, little Star,\\n         How I wonder what you are! \\n                Up above the world so high, \\n                Like a diamond in the sky.\\nTwinkle, twinkle, little Star,\\n         How I wonder what you are\"];\n",
    "print(*arr, sep=\", \");\n"
   ]
  },
  {
   "cell_type": "code",
   "execution_count": 14,
   "id": "961db0ef",
   "metadata": {},
   "outputs": [
    {
     "name": "stdout",
     "output_type": "stream",
     "text": [
      "python version is:\n",
      "3.8.8 (default, Apr 13 2021, 15:08:03) [MSC v.1916 64 bit (AMD64)]\n",
      "python info:\n",
      "sys.version_info(major=3, minor=8, micro=8, releaselevel='final', serial=0)\n"
     ]
    }
   ],
   "source": [
    "#2. Write a Python program to get the Python version you are using.\n",
    "import sys\n",
    "print(\"python version is:\");\n",
    "print(sys.version);\n",
    "print(\"python info:\");\n",
    "print(sys.version_info);\n"
   ]
  },
  {
   "cell_type": "code",
   "execution_count": 15,
   "id": "07eb9598",
   "metadata": {},
   "outputs": [
    {
     "name": "stdout",
     "output_type": "stream",
     "text": [
      "current  dateand time\n",
      "21-10-24 \n",
      " 11:13:03\n"
     ]
    }
   ],
   "source": [
    "#3. Write a Python program to display the current date and time.\n",
    "import datetime\n",
    "now = datetime.datetime.now()\n",
    "print(\"current  date and time\");\n",
    "print(now.strftime(\"%y-%m-%d \\n %H:%M:%S\"));"
   ]
  },
  {
   "cell_type": "code",
   "execution_count": 4,
   "id": "7e002fe1",
   "metadata": {},
   "outputs": [
    {
     "name": "stdout",
     "output_type": "stream",
     "text": [
      "enter the radius of the circle=5\n",
      "area of circle is :78.53981633974483 \n"
     ]
    }
   ],
   "source": [
    "#4. Write a Python program which accepts the radius of a circle from the user and compute the area.\n",
    "\n",
    "rad = int(input(\"Enter value of radius = \"));\n",
    "pie = float(input(\"Enter value of pie = \"));\n",
    "area = pie*(rad**2);\n",
    "print(\"Area of a circle = \" ,area);"
   ]
  },
  {
   "cell_type": "code",
   "execution_count": 16,
   "id": "dccba733",
   "metadata": {},
   "outputs": [
    {
     "name": "stdout",
     "output_type": "stream",
     "text": [
      "enter your first name: adil\n",
      "enter your last name :ibad\n",
      "lida dabi\n"
     ]
    }
   ],
   "source": [
    "#5. Write a Python program which accepts the user's first and last name and print them in reverse order with a space between them\n",
    "f_name=input(\"enter your first name: \")[::-1]\n",
    "l_name=input(\"enter your last name :\")[::-1]\n",
    "print(f_name , l_name);\n"
   ]
  },
  {
   "cell_type": "code",
   "execution_count": 3,
   "id": "1b0415a1",
   "metadata": {},
   "outputs": [
    {
     "name": "stdout",
     "output_type": "stream",
     "text": [
      "enter the value of x=6\n",
      "enter the value of y=4\n",
      "the addition of tow numbers= 10\n"
     ]
    }
   ],
   "source": [
    "#6. Write a python program which takes two inputs from user and print them addition.\n",
    "x=int(input(\"enter the value of x=\"));\n",
    "y=int(input(\"enter the value of y=\"));\n",
    "z=x+y;\n",
    "print(\"the addition of tow numbers=\",z);\n"
   ]
  },
  {
   "cell_type": "code",
   "execution_count": 8,
   "id": "696a7317",
   "metadata": {},
   "outputs": [
    {
     "name": "stdout",
     "output_type": "stream",
     "text": [
      "enter the marks of isl=75\n",
      "enter the the marks of mth=89\n",
      "enter the the marks of eng=87\n",
      "enter the marks of urdu=78\n",
      "enter the marks of cs=79\n",
      "81.6\n",
      "Grade A+\n"
     ]
    }
   ],
   "source": [
    "#7. Write a program which takes 5 inputs from user for different subject’s marks, total it and generate mark sheet using grades?\n",
    "\n",
    "isl=int(input(\"enter the marks of isl=\"));\n",
    "mth=int(input(\"enter the the marks of mth=\"));\n",
    "eng=int(input(\"enter the the marks of eng=\"));\n",
    "urdu=int(input(\"enter the marks of urdu=\"));\n",
    "cs=int(input(\"enter the marks of cs=\"));\n",
    "marks = isl+mth+eng+urdu+cs;\n",
    "totalMarks = 500; \n",
    "per= marks*100/totalMarks;\n",
    "print(per);\n",
    "\n",
    "if per < 100 and per >= 80:\n",
    "         print(\"Grade A+\");\n",
    "elif per < 80 and per >= 70:\n",
    "            print(\"Grade A\");\n",
    "elif per < 70 and per >= 60:\n",
    "          print(\"Grade B\");\n",
    "elif per < 60 and per >= 50:\n",
    "           print(\"Grade C\");\n",
    "elif per < 50 and per >= 40:\n",
    "          print(\"Grade D\");\n",
    "elif per < 40 and per >= 33:\n",
    "         print(\"Grade E\");\n",
    "elif per<o and per >= 100:\n",
    "         print(\"you did not write the correct\");\n",
    "else:\n",
    "      print(\"fail\");"
   ]
  },
  {
   "cell_type": "code",
   "execution_count": 4,
   "id": "e5c5b48f",
   "metadata": {},
   "outputs": [
    {
     "name": "stdout",
     "output_type": "stream",
     "text": [
      "enter the value of x= 5\n",
      "you entered an odd number\n"
     ]
    }
   ],
   "source": [
    "#8. Write a program which take input from user and identify that the given number is even.\n",
    "\n",
    "or odd? \n",
    "x=int(input(\"enter the value of x= \"));\n",
    "if x%2==0:\n",
    "    print(\"you enter an even number\");\n",
    "else:\n",
    "    print(\"you entered an odd number\");"
   ]
  },
  {
   "cell_type": "code",
   "execution_count": 6,
   "id": "ae3d2f33",
   "metadata": {},
   "outputs": [
    {
     "name": "stdout",
     "output_type": "stream",
     "text": [
      "length of list :  4\n"
     ]
    }
   ],
   "source": [
    "#9. Write a program which print the length of the list? \n",
    "\n",
    "x=[25 , 45 , 5 ,8]\n",
    "print(\"length of list : \" , len(x));\n"
   ]
  },
  {
   "cell_type": "code",
   "execution_count": 11,
   "id": "a4475226",
   "metadata": {},
   "outputs": [
    {
     "name": "stdout",
     "output_type": "stream",
     "text": [
      "sum of all list numbers= 83\n"
     ]
    }
   ],
   "source": [
    "#10.Write a Python program to sum all the numeric items in a list?\n",
    "\n",
    "x=[25 , 45 , 5 ,8]\n",
    "print( \"sum of all list numbers=\" , sum(x));"
   ]
  },
  {
   "cell_type": "code",
   "execution_count": 7,
   "id": "eb89a4e7",
   "metadata": {},
   "outputs": [
    {
     "name": "stdout",
     "output_type": "stream",
     "text": [
      "largest no of the list =  45\n"
     ]
    }
   ],
   "source": [
    "#11.Write a Python program to get the largest number from a numeric list.\n",
    "\n",
    "x=[25 , 45 , 5 ,8]\n",
    "x.sort();\n",
    "print(\"largest no of the list = \" , x[-1]);"
   ]
  },
  {
   "cell_type": "code",
   "execution_count": 10,
   "id": "9eb4fd4d",
   "metadata": {},
   "outputs": [
    {
     "name": "stdout",
     "output_type": "stream",
     "text": [
      "Numbers from list less then 5 is:\n",
      "1\n",
      "1\n",
      "2\n",
      "3\n"
     ]
    }
   ],
   "source": [
    "#12. Take a list, say for example this one: a = [1, 1, 2, 3, 5, 8, 13, 21, 34, 55, 89]. Print all less than 5 numbers from list.\n",
    " \n",
    "a = [1, 1, 2, 3, 5, 8, 13, 21, 34, 55, 89]\n",
    "print(\"Numbers from list less then 5 is:\");\n",
    "for i in a:\n",
    "    if i<5:\n",
    "        print(i);"
   ]
  },
  {
   "cell_type": "code",
   "execution_count": 1,
   "id": "9b245cd4",
   "metadata": {},
   "outputs": [
    {
     "name": "stdout",
     "output_type": "stream",
     "text": [
      "Hello World\n"
     ]
    }
   ],
   "source": [
    "print (\"Hello World\");\n"
   ]
  },
  {
   "cell_type": "code",
   "execution_count": null,
   "id": "f32da8dc",
   "metadata": {},
   "outputs": [],
   "source": []
  }
 ],
 "metadata": {
  "kernelspec": {
   "display_name": "Python 3",
   "language": "python",
   "name": "python3"
  },
  "language_info": {
   "codemirror_mode": {
    "name": "ipython",
    "version": 3
   },
   "file_extension": ".py",
   "mimetype": "text/x-python",
   "name": "python",
   "nbconvert_exporter": "python",
   "pygments_lexer": "ipython3",
   "version": "3.8.8"
  }
 },
 "nbformat": 4,
 "nbformat_minor": 5
}
