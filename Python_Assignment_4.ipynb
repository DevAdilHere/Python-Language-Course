{
 "cells": [
  {
   "cell_type": "code",
   "execution_count": 1,
   "id": "7f5119c4",
   "metadata": {},
   "outputs": [
    {
     "name": "stdout",
     "output_type": "stream",
     "text": [
      "Follow the instructions to calculate your values:\n",
      "\n",
      "enter first num = 5\n",
      "enter operater :*\n",
      "enter second  num = 7\n",
      "35.0\n"
     ]
    }
   ],
   "source": [
    "# 1. Make a calculator using Python with addition , subtraction ,multiplication ,division and power.\n",
    "\n",
    "print(\"Follow the instructions to calculate your values:\\n\")\n",
    "num1=float(input(\"enter first num = \"))\n",
    "op=input(\"enter operater :\" )\n",
    "num2=float(input(\"enter second  num = \"))\n",
    "if op == \"+\":\n",
    "        print(num1+num2)\n",
    "elif op == \"-\":\n",
    "        print (num1-num2)\n",
    "elif op == \"*\":\n",
    "        print (num1*num2)\n",
    "elif op == \"/\":\n",
    "        print (num1/num2)\n",
    "elif op == \"**\":\n",
    "           \n",
    "        print(num1**num2)\n",
    "\n",
    "else:\n",
    "        print(\"Please Enter accourate values: \")"
   ]
  },
  {
   "cell_type": "code",
   "execution_count": 8,
   "id": "9320e5db",
   "metadata": {},
   "outputs": [
    {
     "name": "stdout",
     "output_type": "stream",
     "text": [
      "45\n",
      "96\n",
      "85\n",
      "16\n",
      "5\n"
     ]
    }
   ],
   "source": [
    "#2 Write a program to check if there is any numeric value in list using for loop.\n",
    "\n",
    "a=[45,96,85,16,5]\n",
    "for i in a:\n",
    "    print(i)"
   ]
  },
  {
   "cell_type": "code",
   "execution_count": 4,
   "id": "eab46bef",
   "metadata": {},
   "outputs": [
    {
     "name": "stdout",
     "output_type": "stream",
     "text": [
      "{1: 'a', 2: 'b'}\n",
      "{1: 'a', 2: 'b', 3: 'c'}\n"
     ]
    }
   ],
   "source": [
    "# 3. Write a Python script to add a key to a dictionary.\n",
    "\n",
    "dic={1:'a',2:'b'}\n",
    "print(dic)\n",
    "dic.update({3:'c'})\n",
    "print(dic)\n"
   ]
  },
  {
   "cell_type": "code",
   "execution_count": 5,
   "id": "22bdb67d",
   "metadata": {},
   "outputs": [
    {
     "name": "stdout",
     "output_type": "stream",
     "text": [
      "205\n"
     ]
    }
   ],
   "source": [
    "# 4. Write a Python program to sum all the numeric items in a dictionary.\n",
    "\n",
    "dic={'a':39,'b':43,'c':45,'d':78}\n",
    "sum=0\n",
    "for i in dic.values():\n",
    "    sum=sum+i\n",
    "print(sum)    "
   ]
  },
  {
   "cell_type": "code",
   "execution_count": 6,
   "id": "b457f56c",
   "metadata": {},
   "outputs": [
    {
     "name": "stdout",
     "output_type": "stream",
     "text": [
      "[1, 2, 2, 6, 5, 8, 5, 8]\n",
      "1\n",
      "2\n",
      "2\n",
      "6\n",
      "5\n",
      "8\n",
      "5\n",
      "8\n",
      "[1, 2, 6, 5, 8]\n"
     ]
    }
   ],
   "source": [
    "# 5. Write a program to identify duplicate values from list.\n",
    "\n",
    "a = [1,2,2,6,5,8,5,8]\n",
    "print(a)\n",
    "def remove_duplicates(duplist):\n",
    "    noduplist = []\n",
    "    for element in duplist:\n",
    "        print(element)\n",
    "        if element not in noduplist:\n",
    "            noduplist.append(element)\n",
    "    return noduplist       \n",
    "print(remove_duplicates(a) )       \n"
   ]
  },
  {
   "cell_type": "code",
   "execution_count": 3,
   "id": "2ca4a77f",
   "metadata": {},
   "outputs": [
    {
     "name": "stdout",
     "output_type": "stream",
     "text": [
      "enetr key: 23\n",
      "Key is not present\n"
     ]
    }
   ],
   "source": [
    "# 6. Write a Python script to check if a given key already exists in a dictionary.\n",
    "d={1:23,2:45,3:56,4:45,5:78}\n",
    "def is_key_present(x):\n",
    "    if x in d:\n",
    "        print(\"Key is present\")\n",
    "    else:\n",
    "        print(\"Key is not present\")\n",
    "\n",
    "is_key_present(x=int(input(\"Enetr key: \")))\n"
   ]
  },
  {
   "cell_type": "code",
   "execution_count": null,
   "id": "ee9bd140",
   "metadata": {},
   "outputs": [],
   "source": []
  }
 ],
 "metadata": {
  "kernelspec": {
   "display_name": "Python 3",
   "language": "python",
   "name": "python3"
  },
  "language_info": {
   "codemirror_mode": {
    "name": "ipython",
    "version": 3
   },
   "file_extension": ".py",
   "mimetype": "text/x-python",
   "name": "python",
   "nbconvert_exporter": "python",
   "pygments_lexer": "ipython3",
   "version": "3.8.8"
  }
 },
 "nbformat": 4,
 "nbformat_minor": 5
}
